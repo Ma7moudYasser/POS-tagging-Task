{
  "nbformat": 4,
  "nbformat_minor": 0,
  "metadata": {
    "colab": {
      "provenance": [],
      "gpuType": "T4",
      "authorship_tag": "ABX9TyM9ZEW7FDZSJaOxJ/WZqEN6",
      "include_colab_link": true
    },
    "kernelspec": {
      "name": "python3",
      "display_name": "Python 3"
    },
    "language_info": {
      "name": "python"
    },
    "accelerator": "GPU",
    "widgets": {
      "application/vnd.jupyter.widget-state+json": {
        "2381101b2e4c418492ae804aa23e6678": {
          "model_module": "@jupyter-widgets/controls",
          "model_name": "HBoxModel",
          "model_module_version": "1.5.0",
          "state": {
            "_dom_classes": [],
            "_model_module": "@jupyter-widgets/controls",
            "_model_module_version": "1.5.0",
            "_model_name": "HBoxModel",
            "_view_count": null,
            "_view_module": "@jupyter-widgets/controls",
            "_view_module_version": "1.5.0",
            "_view_name": "HBoxView",
            "box_style": "",
            "children": [
              "IPY_MODEL_cad8625f64084ff5877186c26482d51b",
              "IPY_MODEL_3ba5975c7c544ac0bc77bb3b76b8bac7",
              "IPY_MODEL_e3cfc0ebc48c4275869b7df156cea2db"
            ],
            "layout": "IPY_MODEL_dd8876ee5ca941ae8bba761ec8e95350"
          }
        },
        "cad8625f64084ff5877186c26482d51b": {
          "model_module": "@jupyter-widgets/controls",
          "model_name": "HTMLModel",
          "model_module_version": "1.5.0",
          "state": {
            "_dom_classes": [],
            "_model_module": "@jupyter-widgets/controls",
            "_model_module_version": "1.5.0",
            "_model_name": "HTMLModel",
            "_view_count": null,
            "_view_module": "@jupyter-widgets/controls",
            "_view_module_version": "1.5.0",
            "_view_name": "HTMLView",
            "description": "",
            "description_tooltip": null,
            "layout": "IPY_MODEL_0667eafeba834c37b8df35b69ede1b88",
            "placeholder": "​",
            "style": "IPY_MODEL_40a3a55f278144caa9eb69513cd28b7c",
            "value": "config.json: 100%"
          }
        },
        "3ba5975c7c544ac0bc77bb3b76b8bac7": {
          "model_module": "@jupyter-widgets/controls",
          "model_name": "FloatProgressModel",
          "model_module_version": "1.5.0",
          "state": {
            "_dom_classes": [],
            "_model_module": "@jupyter-widgets/controls",
            "_model_module_version": "1.5.0",
            "_model_name": "FloatProgressModel",
            "_view_count": null,
            "_view_module": "@jupyter-widgets/controls",
            "_view_module_version": "1.5.0",
            "_view_name": "ProgressView",
            "bar_style": "success",
            "description": "",
            "description_tooltip": null,
            "layout": "IPY_MODEL_e824da2fad1e4f6f9f63035dd40689a7",
            "max": 1853,
            "min": 0,
            "orientation": "horizontal",
            "style": "IPY_MODEL_cfe15abb304145679b6fc33defda3989",
            "value": 1853
          }
        },
        "e3cfc0ebc48c4275869b7df156cea2db": {
          "model_module": "@jupyter-widgets/controls",
          "model_name": "HTMLModel",
          "model_module_version": "1.5.0",
          "state": {
            "_dom_classes": [],
            "_model_module": "@jupyter-widgets/controls",
            "_model_module_version": "1.5.0",
            "_model_name": "HTMLModel",
            "_view_count": null,
            "_view_module": "@jupyter-widgets/controls",
            "_view_module_version": "1.5.0",
            "_view_name": "HTMLView",
            "description": "",
            "description_tooltip": null,
            "layout": "IPY_MODEL_31c32814dc774d1f9a9d89cd89c5c09d",
            "placeholder": "​",
            "style": "IPY_MODEL_12e0fa49032d4d92af5dc2396ad37873",
            "value": " 1.85k/1.85k [00:00&lt;00:00, 94.8kB/s]"
          }
        },
        "dd8876ee5ca941ae8bba761ec8e95350": {
          "model_module": "@jupyter-widgets/base",
          "model_name": "LayoutModel",
          "model_module_version": "1.2.0",
          "state": {
            "_model_module": "@jupyter-widgets/base",
            "_model_module_version": "1.2.0",
            "_model_name": "LayoutModel",
            "_view_count": null,
            "_view_module": "@jupyter-widgets/base",
            "_view_module_version": "1.2.0",
            "_view_name": "LayoutView",
            "align_content": null,
            "align_items": null,
            "align_self": null,
            "border": null,
            "bottom": null,
            "display": null,
            "flex": null,
            "flex_flow": null,
            "grid_area": null,
            "grid_auto_columns": null,
            "grid_auto_flow": null,
            "grid_auto_rows": null,
            "grid_column": null,
            "grid_gap": null,
            "grid_row": null,
            "grid_template_areas": null,
            "grid_template_columns": null,
            "grid_template_rows": null,
            "height": null,
            "justify_content": null,
            "justify_items": null,
            "left": null,
            "margin": null,
            "max_height": null,
            "max_width": null,
            "min_height": null,
            "min_width": null,
            "object_fit": null,
            "object_position": null,
            "order": null,
            "overflow": null,
            "overflow_x": null,
            "overflow_y": null,
            "padding": null,
            "right": null,
            "top": null,
            "visibility": null,
            "width": null
          }
        },
        "0667eafeba834c37b8df35b69ede1b88": {
          "model_module": "@jupyter-widgets/base",
          "model_name": "LayoutModel",
          "model_module_version": "1.2.0",
          "state": {
            "_model_module": "@jupyter-widgets/base",
            "_model_module_version": "1.2.0",
            "_model_name": "LayoutModel",
            "_view_count": null,
            "_view_module": "@jupyter-widgets/base",
            "_view_module_version": "1.2.0",
            "_view_name": "LayoutView",
            "align_content": null,
            "align_items": null,
            "align_self": null,
            "border": null,
            "bottom": null,
            "display": null,
            "flex": null,
            "flex_flow": null,
            "grid_area": null,
            "grid_auto_columns": null,
            "grid_auto_flow": null,
            "grid_auto_rows": null,
            "grid_column": null,
            "grid_gap": null,
            "grid_row": null,
            "grid_template_areas": null,
            "grid_template_columns": null,
            "grid_template_rows": null,
            "height": null,
            "justify_content": null,
            "justify_items": null,
            "left": null,
            "margin": null,
            "max_height": null,
            "max_width": null,
            "min_height": null,
            "min_width": null,
            "object_fit": null,
            "object_position": null,
            "order": null,
            "overflow": null,
            "overflow_x": null,
            "overflow_y": null,
            "padding": null,
            "right": null,
            "top": null,
            "visibility": null,
            "width": null
          }
        },
        "40a3a55f278144caa9eb69513cd28b7c": {
          "model_module": "@jupyter-widgets/controls",
          "model_name": "DescriptionStyleModel",
          "model_module_version": "1.5.0",
          "state": {
            "_model_module": "@jupyter-widgets/controls",
            "_model_module_version": "1.5.0",
            "_model_name": "DescriptionStyleModel",
            "_view_count": null,
            "_view_module": "@jupyter-widgets/base",
            "_view_module_version": "1.2.0",
            "_view_name": "StyleView",
            "description_width": ""
          }
        },
        "e824da2fad1e4f6f9f63035dd40689a7": {
          "model_module": "@jupyter-widgets/base",
          "model_name": "LayoutModel",
          "model_module_version": "1.2.0",
          "state": {
            "_model_module": "@jupyter-widgets/base",
            "_model_module_version": "1.2.0",
            "_model_name": "LayoutModel",
            "_view_count": null,
            "_view_module": "@jupyter-widgets/base",
            "_view_module_version": "1.2.0",
            "_view_name": "LayoutView",
            "align_content": null,
            "align_items": null,
            "align_self": null,
            "border": null,
            "bottom": null,
            "display": null,
            "flex": null,
            "flex_flow": null,
            "grid_area": null,
            "grid_auto_columns": null,
            "grid_auto_flow": null,
            "grid_auto_rows": null,
            "grid_column": null,
            "grid_gap": null,
            "grid_row": null,
            "grid_template_areas": null,
            "grid_template_columns": null,
            "grid_template_rows": null,
            "height": null,
            "justify_content": null,
            "justify_items": null,
            "left": null,
            "margin": null,
            "max_height": null,
            "max_width": null,
            "min_height": null,
            "min_width": null,
            "object_fit": null,
            "object_position": null,
            "order": null,
            "overflow": null,
            "overflow_x": null,
            "overflow_y": null,
            "padding": null,
            "right": null,
            "top": null,
            "visibility": null,
            "width": null
          }
        },
        "cfe15abb304145679b6fc33defda3989": {
          "model_module": "@jupyter-widgets/controls",
          "model_name": "ProgressStyleModel",
          "model_module_version": "1.5.0",
          "state": {
            "_model_module": "@jupyter-widgets/controls",
            "_model_module_version": "1.5.0",
            "_model_name": "ProgressStyleModel",
            "_view_count": null,
            "_view_module": "@jupyter-widgets/base",
            "_view_module_version": "1.2.0",
            "_view_name": "StyleView",
            "bar_color": null,
            "description_width": ""
          }
        },
        "31c32814dc774d1f9a9d89cd89c5c09d": {
          "model_module": "@jupyter-widgets/base",
          "model_name": "LayoutModel",
          "model_module_version": "1.2.0",
          "state": {
            "_model_module": "@jupyter-widgets/base",
            "_model_module_version": "1.2.0",
            "_model_name": "LayoutModel",
            "_view_count": null,
            "_view_module": "@jupyter-widgets/base",
            "_view_module_version": "1.2.0",
            "_view_name": "LayoutView",
            "align_content": null,
            "align_items": null,
            "align_self": null,
            "border": null,
            "bottom": null,
            "display": null,
            "flex": null,
            "flex_flow": null,
            "grid_area": null,
            "grid_auto_columns": null,
            "grid_auto_flow": null,
            "grid_auto_rows": null,
            "grid_column": null,
            "grid_gap": null,
            "grid_row": null,
            "grid_template_areas": null,
            "grid_template_columns": null,
            "grid_template_rows": null,
            "height": null,
            "justify_content": null,
            "justify_items": null,
            "left": null,
            "margin": null,
            "max_height": null,
            "max_width": null,
            "min_height": null,
            "min_width": null,
            "object_fit": null,
            "object_position": null,
            "order": null,
            "overflow": null,
            "overflow_x": null,
            "overflow_y": null,
            "padding": null,
            "right": null,
            "top": null,
            "visibility": null,
            "width": null
          }
        },
        "12e0fa49032d4d92af5dc2396ad37873": {
          "model_module": "@jupyter-widgets/controls",
          "model_name": "DescriptionStyleModel",
          "model_module_version": "1.5.0",
          "state": {
            "_model_module": "@jupyter-widgets/controls",
            "_model_module_version": "1.5.0",
            "_model_name": "DescriptionStyleModel",
            "_view_count": null,
            "_view_module": "@jupyter-widgets/base",
            "_view_module_version": "1.2.0",
            "_view_name": "StyleView",
            "description_width": ""
          }
        },
        "4b29b10d43654c0f97946a1a5fa00b3b": {
          "model_module": "@jupyter-widgets/controls",
          "model_name": "HBoxModel",
          "model_module_version": "1.5.0",
          "state": {
            "_dom_classes": [],
            "_model_module": "@jupyter-widgets/controls",
            "_model_module_version": "1.5.0",
            "_model_name": "HBoxModel",
            "_view_count": null,
            "_view_module": "@jupyter-widgets/controls",
            "_view_module_version": "1.5.0",
            "_view_name": "HBoxView",
            "box_style": "",
            "children": [
              "IPY_MODEL_ff75144e2ae44c02bef7cb6a96d7838c",
              "IPY_MODEL_cb16168a5ddb482d9d840395dceb47d5",
              "IPY_MODEL_3e7fc27f6222499a9626168a4428f2ae"
            ],
            "layout": "IPY_MODEL_8f811c92a8514478a15dda215fd8336c"
          }
        },
        "ff75144e2ae44c02bef7cb6a96d7838c": {
          "model_module": "@jupyter-widgets/controls",
          "model_name": "HTMLModel",
          "model_module_version": "1.5.0",
          "state": {
            "_dom_classes": [],
            "_model_module": "@jupyter-widgets/controls",
            "_model_module_version": "1.5.0",
            "_model_name": "HTMLModel",
            "_view_count": null,
            "_view_module": "@jupyter-widgets/controls",
            "_view_module_version": "1.5.0",
            "_view_name": "HTMLView",
            "description": "",
            "description_tooltip": null,
            "layout": "IPY_MODEL_bdf4cc5dd17c4f1dac5074e6bc915183",
            "placeholder": "​",
            "style": "IPY_MODEL_ddfce51506804cedab48b257fff612a5",
            "value": "pytorch_model.bin: 100%"
          }
        },
        "cb16168a5ddb482d9d840395dceb47d5": {
          "model_module": "@jupyter-widgets/controls",
          "model_name": "FloatProgressModel",
          "model_module_version": "1.5.0",
          "state": {
            "_dom_classes": [],
            "_model_module": "@jupyter-widgets/controls",
            "_model_module_version": "1.5.0",
            "_model_name": "FloatProgressModel",
            "_view_count": null,
            "_view_module": "@jupyter-widgets/controls",
            "_view_module_version": "1.5.0",
            "_view_name": "ProgressView",
            "bar_style": "success",
            "description": "",
            "description_tooltip": null,
            "layout": "IPY_MODEL_b900096b747a49429a0c77bb684f4ee2",
            "max": 436481449,
            "min": 0,
            "orientation": "horizontal",
            "style": "IPY_MODEL_2d29ea688aeb4007890f31635a2a5e10",
            "value": 436481449
          }
        },
        "3e7fc27f6222499a9626168a4428f2ae": {
          "model_module": "@jupyter-widgets/controls",
          "model_name": "HTMLModel",
          "model_module_version": "1.5.0",
          "state": {
            "_dom_classes": [],
            "_model_module": "@jupyter-widgets/controls",
            "_model_module_version": "1.5.0",
            "_model_name": "HTMLModel",
            "_view_count": null,
            "_view_module": "@jupyter-widgets/controls",
            "_view_module_version": "1.5.0",
            "_view_name": "HTMLView",
            "description": "",
            "description_tooltip": null,
            "layout": "IPY_MODEL_1694b48d3ff84199a7bdb02221f712a3",
            "placeholder": "​",
            "style": "IPY_MODEL_700b8d3b7d5546e182cc78f03811586d",
            "value": " 436M/436M [00:07&lt;00:00, 46.0MB/s]"
          }
        },
        "8f811c92a8514478a15dda215fd8336c": {
          "model_module": "@jupyter-widgets/base",
          "model_name": "LayoutModel",
          "model_module_version": "1.2.0",
          "state": {
            "_model_module": "@jupyter-widgets/base",
            "_model_module_version": "1.2.0",
            "_model_name": "LayoutModel",
            "_view_count": null,
            "_view_module": "@jupyter-widgets/base",
            "_view_module_version": "1.2.0",
            "_view_name": "LayoutView",
            "align_content": null,
            "align_items": null,
            "align_self": null,
            "border": null,
            "bottom": null,
            "display": null,
            "flex": null,
            "flex_flow": null,
            "grid_area": null,
            "grid_auto_columns": null,
            "grid_auto_flow": null,
            "grid_auto_rows": null,
            "grid_column": null,
            "grid_gap": null,
            "grid_row": null,
            "grid_template_areas": null,
            "grid_template_columns": null,
            "grid_template_rows": null,
            "height": null,
            "justify_content": null,
            "justify_items": null,
            "left": null,
            "margin": null,
            "max_height": null,
            "max_width": null,
            "min_height": null,
            "min_width": null,
            "object_fit": null,
            "object_position": null,
            "order": null,
            "overflow": null,
            "overflow_x": null,
            "overflow_y": null,
            "padding": null,
            "right": null,
            "top": null,
            "visibility": null,
            "width": null
          }
        },
        "bdf4cc5dd17c4f1dac5074e6bc915183": {
          "model_module": "@jupyter-widgets/base",
          "model_name": "LayoutModel",
          "model_module_version": "1.2.0",
          "state": {
            "_model_module": "@jupyter-widgets/base",
            "_model_module_version": "1.2.0",
            "_model_name": "LayoutModel",
            "_view_count": null,
            "_view_module": "@jupyter-widgets/base",
            "_view_module_version": "1.2.0",
            "_view_name": "LayoutView",
            "align_content": null,
            "align_items": null,
            "align_self": null,
            "border": null,
            "bottom": null,
            "display": null,
            "flex": null,
            "flex_flow": null,
            "grid_area": null,
            "grid_auto_columns": null,
            "grid_auto_flow": null,
            "grid_auto_rows": null,
            "grid_column": null,
            "grid_gap": null,
            "grid_row": null,
            "grid_template_areas": null,
            "grid_template_columns": null,
            "grid_template_rows": null,
            "height": null,
            "justify_content": null,
            "justify_items": null,
            "left": null,
            "margin": null,
            "max_height": null,
            "max_width": null,
            "min_height": null,
            "min_width": null,
            "object_fit": null,
            "object_position": null,
            "order": null,
            "overflow": null,
            "overflow_x": null,
            "overflow_y": null,
            "padding": null,
            "right": null,
            "top": null,
            "visibility": null,
            "width": null
          }
        },
        "ddfce51506804cedab48b257fff612a5": {
          "model_module": "@jupyter-widgets/controls",
          "model_name": "DescriptionStyleModel",
          "model_module_version": "1.5.0",
          "state": {
            "_model_module": "@jupyter-widgets/controls",
            "_model_module_version": "1.5.0",
            "_model_name": "DescriptionStyleModel",
            "_view_count": null,
            "_view_module": "@jupyter-widgets/base",
            "_view_module_version": "1.2.0",
            "_view_name": "StyleView",
            "description_width": ""
          }
        },
        "b900096b747a49429a0c77bb684f4ee2": {
          "model_module": "@jupyter-widgets/base",
          "model_name": "LayoutModel",
          "model_module_version": "1.2.0",
          "state": {
            "_model_module": "@jupyter-widgets/base",
            "_model_module_version": "1.2.0",
            "_model_name": "LayoutModel",
            "_view_count": null,
            "_view_module": "@jupyter-widgets/base",
            "_view_module_version": "1.2.0",
            "_view_name": "LayoutView",
            "align_content": null,
            "align_items": null,
            "align_self": null,
            "border": null,
            "bottom": null,
            "display": null,
            "flex": null,
            "flex_flow": null,
            "grid_area": null,
            "grid_auto_columns": null,
            "grid_auto_flow": null,
            "grid_auto_rows": null,
            "grid_column": null,
            "grid_gap": null,
            "grid_row": null,
            "grid_template_areas": null,
            "grid_template_columns": null,
            "grid_template_rows": null,
            "height": null,
            "justify_content": null,
            "justify_items": null,
            "left": null,
            "margin": null,
            "max_height": null,
            "max_width": null,
            "min_height": null,
            "min_width": null,
            "object_fit": null,
            "object_position": null,
            "order": null,
            "overflow": null,
            "overflow_x": null,
            "overflow_y": null,
            "padding": null,
            "right": null,
            "top": null,
            "visibility": null,
            "width": null
          }
        },
        "2d29ea688aeb4007890f31635a2a5e10": {
          "model_module": "@jupyter-widgets/controls",
          "model_name": "ProgressStyleModel",
          "model_module_version": "1.5.0",
          "state": {
            "_model_module": "@jupyter-widgets/controls",
            "_model_module_version": "1.5.0",
            "_model_name": "ProgressStyleModel",
            "_view_count": null,
            "_view_module": "@jupyter-widgets/base",
            "_view_module_version": "1.2.0",
            "_view_name": "StyleView",
            "bar_color": null,
            "description_width": ""
          }
        },
        "1694b48d3ff84199a7bdb02221f712a3": {
          "model_module": "@jupyter-widgets/base",
          "model_name": "LayoutModel",
          "model_module_version": "1.2.0",
          "state": {
            "_model_module": "@jupyter-widgets/base",
            "_model_module_version": "1.2.0",
            "_model_name": "LayoutModel",
            "_view_count": null,
            "_view_module": "@jupyter-widgets/base",
            "_view_module_version": "1.2.0",
            "_view_name": "LayoutView",
            "align_content": null,
            "align_items": null,
            "align_self": null,
            "border": null,
            "bottom": null,
            "display": null,
            "flex": null,
            "flex_flow": null,
            "grid_area": null,
            "grid_auto_columns": null,
            "grid_auto_flow": null,
            "grid_auto_rows": null,
            "grid_column": null,
            "grid_gap": null,
            "grid_row": null,
            "grid_template_areas": null,
            "grid_template_columns": null,
            "grid_template_rows": null,
            "height": null,
            "justify_content": null,
            "justify_items": null,
            "left": null,
            "margin": null,
            "max_height": null,
            "max_width": null,
            "min_height": null,
            "min_width": null,
            "object_fit": null,
            "object_position": null,
            "order": null,
            "overflow": null,
            "overflow_x": null,
            "overflow_y": null,
            "padding": null,
            "right": null,
            "top": null,
            "visibility": null,
            "width": null
          }
        },
        "700b8d3b7d5546e182cc78f03811586d": {
          "model_module": "@jupyter-widgets/controls",
          "model_name": "DescriptionStyleModel",
          "model_module_version": "1.5.0",
          "state": {
            "_model_module": "@jupyter-widgets/controls",
            "_model_module_version": "1.5.0",
            "_model_name": "DescriptionStyleModel",
            "_view_count": null,
            "_view_module": "@jupyter-widgets/base",
            "_view_module_version": "1.2.0",
            "_view_name": "StyleView",
            "description_width": ""
          }
        },
        "165037a1e8654a57a152cb5ef8843d0c": {
          "model_module": "@jupyter-widgets/controls",
          "model_name": "HBoxModel",
          "model_module_version": "1.5.0",
          "state": {
            "_dom_classes": [],
            "_model_module": "@jupyter-widgets/controls",
            "_model_module_version": "1.5.0",
            "_model_name": "HBoxModel",
            "_view_count": null,
            "_view_module": "@jupyter-widgets/controls",
            "_view_module_version": "1.5.0",
            "_view_name": "HBoxView",
            "box_style": "",
            "children": [
              "IPY_MODEL_300074fc953c446ca5212709f42ad1a3",
              "IPY_MODEL_23ef93217c2a4f999f19b7fb5e71d901",
              "IPY_MODEL_e8585a451ce54178ba005bc171f66343"
            ],
            "layout": "IPY_MODEL_c003f0f9218a44e58d722b56a45177d9"
          }
        },
        "300074fc953c446ca5212709f42ad1a3": {
          "model_module": "@jupyter-widgets/controls",
          "model_name": "HTMLModel",
          "model_module_version": "1.5.0",
          "state": {
            "_dom_classes": [],
            "_model_module": "@jupyter-widgets/controls",
            "_model_module_version": "1.5.0",
            "_model_name": "HTMLModel",
            "_view_count": null,
            "_view_module": "@jupyter-widgets/controls",
            "_view_module_version": "1.5.0",
            "_view_name": "HTMLView",
            "description": "",
            "description_tooltip": null,
            "layout": "IPY_MODEL_bcb2f13956a04ecab6885ac2d5c45ccd",
            "placeholder": "​",
            "style": "IPY_MODEL_55779c05114f40759aa909406fe52fe9",
            "value": "tokenizer_config.json: 100%"
          }
        },
        "23ef93217c2a4f999f19b7fb5e71d901": {
          "model_module": "@jupyter-widgets/controls",
          "model_name": "FloatProgressModel",
          "model_module_version": "1.5.0",
          "state": {
            "_dom_classes": [],
            "_model_module": "@jupyter-widgets/controls",
            "_model_module_version": "1.5.0",
            "_model_name": "FloatProgressModel",
            "_view_count": null,
            "_view_module": "@jupyter-widgets/controls",
            "_view_module_version": "1.5.0",
            "_view_name": "ProgressView",
            "bar_style": "success",
            "description": "",
            "description_tooltip": null,
            "layout": "IPY_MODEL_11192802f2b142bda659d75f77703243",
            "max": 86,
            "min": 0,
            "orientation": "horizontal",
            "style": "IPY_MODEL_ee05fecfd25d42f58d54d20fed5bb2a4",
            "value": 86
          }
        },
        "e8585a451ce54178ba005bc171f66343": {
          "model_module": "@jupyter-widgets/controls",
          "model_name": "HTMLModel",
          "model_module_version": "1.5.0",
          "state": {
            "_dom_classes": [],
            "_model_module": "@jupyter-widgets/controls",
            "_model_module_version": "1.5.0",
            "_model_name": "HTMLModel",
            "_view_count": null,
            "_view_module": "@jupyter-widgets/controls",
            "_view_module_version": "1.5.0",
            "_view_name": "HTMLView",
            "description": "",
            "description_tooltip": null,
            "layout": "IPY_MODEL_2b8a8a3f479946a9909fcd271685c488",
            "placeholder": "​",
            "style": "IPY_MODEL_cc24f84a1f974099aab01a499f3e146d",
            "value": " 86.0/86.0 [00:00&lt;00:00, 3.48kB/s]"
          }
        },
        "c003f0f9218a44e58d722b56a45177d9": {
          "model_module": "@jupyter-widgets/base",
          "model_name": "LayoutModel",
          "model_module_version": "1.2.0",
          "state": {
            "_model_module": "@jupyter-widgets/base",
            "_model_module_version": "1.2.0",
            "_model_name": "LayoutModel",
            "_view_count": null,
            "_view_module": "@jupyter-widgets/base",
            "_view_module_version": "1.2.0",
            "_view_name": "LayoutView",
            "align_content": null,
            "align_items": null,
            "align_self": null,
            "border": null,
            "bottom": null,
            "display": null,
            "flex": null,
            "flex_flow": null,
            "grid_area": null,
            "grid_auto_columns": null,
            "grid_auto_flow": null,
            "grid_auto_rows": null,
            "grid_column": null,
            "grid_gap": null,
            "grid_row": null,
            "grid_template_areas": null,
            "grid_template_columns": null,
            "grid_template_rows": null,
            "height": null,
            "justify_content": null,
            "justify_items": null,
            "left": null,
            "margin": null,
            "max_height": null,
            "max_width": null,
            "min_height": null,
            "min_width": null,
            "object_fit": null,
            "object_position": null,
            "order": null,
            "overflow": null,
            "overflow_x": null,
            "overflow_y": null,
            "padding": null,
            "right": null,
            "top": null,
            "visibility": null,
            "width": null
          }
        },
        "bcb2f13956a04ecab6885ac2d5c45ccd": {
          "model_module": "@jupyter-widgets/base",
          "model_name": "LayoutModel",
          "model_module_version": "1.2.0",
          "state": {
            "_model_module": "@jupyter-widgets/base",
            "_model_module_version": "1.2.0",
            "_model_name": "LayoutModel",
            "_view_count": null,
            "_view_module": "@jupyter-widgets/base",
            "_view_module_version": "1.2.0",
            "_view_name": "LayoutView",
            "align_content": null,
            "align_items": null,
            "align_self": null,
            "border": null,
            "bottom": null,
            "display": null,
            "flex": null,
            "flex_flow": null,
            "grid_area": null,
            "grid_auto_columns": null,
            "grid_auto_flow": null,
            "grid_auto_rows": null,
            "grid_column": null,
            "grid_gap": null,
            "grid_row": null,
            "grid_template_areas": null,
            "grid_template_columns": null,
            "grid_template_rows": null,
            "height": null,
            "justify_content": null,
            "justify_items": null,
            "left": null,
            "margin": null,
            "max_height": null,
            "max_width": null,
            "min_height": null,
            "min_width": null,
            "object_fit": null,
            "object_position": null,
            "order": null,
            "overflow": null,
            "overflow_x": null,
            "overflow_y": null,
            "padding": null,
            "right": null,
            "top": null,
            "visibility": null,
            "width": null
          }
        },
        "55779c05114f40759aa909406fe52fe9": {
          "model_module": "@jupyter-widgets/controls",
          "model_name": "DescriptionStyleModel",
          "model_module_version": "1.5.0",
          "state": {
            "_model_module": "@jupyter-widgets/controls",
            "_model_module_version": "1.5.0",
            "_model_name": "DescriptionStyleModel",
            "_view_count": null,
            "_view_module": "@jupyter-widgets/base",
            "_view_module_version": "1.2.0",
            "_view_name": "StyleView",
            "description_width": ""
          }
        },
        "11192802f2b142bda659d75f77703243": {
          "model_module": "@jupyter-widgets/base",
          "model_name": "LayoutModel",
          "model_module_version": "1.2.0",
          "state": {
            "_model_module": "@jupyter-widgets/base",
            "_model_module_version": "1.2.0",
            "_model_name": "LayoutModel",
            "_view_count": null,
            "_view_module": "@jupyter-widgets/base",
            "_view_module_version": "1.2.0",
            "_view_name": "LayoutView",
            "align_content": null,
            "align_items": null,
            "align_self": null,
            "border": null,
            "bottom": null,
            "display": null,
            "flex": null,
            "flex_flow": null,
            "grid_area": null,
            "grid_auto_columns": null,
            "grid_auto_flow": null,
            "grid_auto_rows": null,
            "grid_column": null,
            "grid_gap": null,
            "grid_row": null,
            "grid_template_areas": null,
            "grid_template_columns": null,
            "grid_template_rows": null,
            "height": null,
            "justify_content": null,
            "justify_items": null,
            "left": null,
            "margin": null,
            "max_height": null,
            "max_width": null,
            "min_height": null,
            "min_width": null,
            "object_fit": null,
            "object_position": null,
            "order": null,
            "overflow": null,
            "overflow_x": null,
            "overflow_y": null,
            "padding": null,
            "right": null,
            "top": null,
            "visibility": null,
            "width": null
          }
        },
        "ee05fecfd25d42f58d54d20fed5bb2a4": {
          "model_module": "@jupyter-widgets/controls",
          "model_name": "ProgressStyleModel",
          "model_module_version": "1.5.0",
          "state": {
            "_model_module": "@jupyter-widgets/controls",
            "_model_module_version": "1.5.0",
            "_model_name": "ProgressStyleModel",
            "_view_count": null,
            "_view_module": "@jupyter-widgets/base",
            "_view_module_version": "1.2.0",
            "_view_name": "StyleView",
            "bar_color": null,
            "description_width": ""
          }
        },
        "2b8a8a3f479946a9909fcd271685c488": {
          "model_module": "@jupyter-widgets/base",
          "model_name": "LayoutModel",
          "model_module_version": "1.2.0",
          "state": {
            "_model_module": "@jupyter-widgets/base",
            "_model_module_version": "1.2.0",
            "_model_name": "LayoutModel",
            "_view_count": null,
            "_view_module": "@jupyter-widgets/base",
            "_view_module_version": "1.2.0",
            "_view_name": "LayoutView",
            "align_content": null,
            "align_items": null,
            "align_self": null,
            "border": null,
            "bottom": null,
            "display": null,
            "flex": null,
            "flex_flow": null,
            "grid_area": null,
            "grid_auto_columns": null,
            "grid_auto_flow": null,
            "grid_auto_rows": null,
            "grid_column": null,
            "grid_gap": null,
            "grid_row": null,
            "grid_template_areas": null,
            "grid_template_columns": null,
            "grid_template_rows": null,
            "height": null,
            "justify_content": null,
            "justify_items": null,
            "left": null,
            "margin": null,
            "max_height": null,
            "max_width": null,
            "min_height": null,
            "min_width": null,
            "object_fit": null,
            "object_position": null,
            "order": null,
            "overflow": null,
            "overflow_x": null,
            "overflow_y": null,
            "padding": null,
            "right": null,
            "top": null,
            "visibility": null,
            "width": null
          }
        },
        "cc24f84a1f974099aab01a499f3e146d": {
          "model_module": "@jupyter-widgets/controls",
          "model_name": "DescriptionStyleModel",
          "model_module_version": "1.5.0",
          "state": {
            "_model_module": "@jupyter-widgets/controls",
            "_model_module_version": "1.5.0",
            "_model_name": "DescriptionStyleModel",
            "_view_count": null,
            "_view_module": "@jupyter-widgets/base",
            "_view_module_version": "1.2.0",
            "_view_name": "StyleView",
            "description_width": ""
          }
        },
        "af11eab08611431190c96d43a2d85f71": {
          "model_module": "@jupyter-widgets/controls",
          "model_name": "HBoxModel",
          "model_module_version": "1.5.0",
          "state": {
            "_dom_classes": [],
            "_model_module": "@jupyter-widgets/controls",
            "_model_module_version": "1.5.0",
            "_model_name": "HBoxModel",
            "_view_count": null,
            "_view_module": "@jupyter-widgets/controls",
            "_view_module_version": "1.5.0",
            "_view_name": "HBoxView",
            "box_style": "",
            "children": [
              "IPY_MODEL_44c92f1efcf34bc69486dfd9197a3cd2",
              "IPY_MODEL_e4bedc1c22194aee90d8adee10588623",
              "IPY_MODEL_5324d61b1c504e48a9b8b39725863514"
            ],
            "layout": "IPY_MODEL_7c3f7bd3769c4addae534f9bfd4756ba"
          }
        },
        "44c92f1efcf34bc69486dfd9197a3cd2": {
          "model_module": "@jupyter-widgets/controls",
          "model_name": "HTMLModel",
          "model_module_version": "1.5.0",
          "state": {
            "_dom_classes": [],
            "_model_module": "@jupyter-widgets/controls",
            "_model_module_version": "1.5.0",
            "_model_name": "HTMLModel",
            "_view_count": null,
            "_view_module": "@jupyter-widgets/controls",
            "_view_module_version": "1.5.0",
            "_view_name": "HTMLView",
            "description": "",
            "description_tooltip": null,
            "layout": "IPY_MODEL_72078ee1806b41f090ffc834593bdafe",
            "placeholder": "​",
            "style": "IPY_MODEL_ec5ae38b0097482ba0df3dae18122865",
            "value": "vocab.txt: 100%"
          }
        },
        "e4bedc1c22194aee90d8adee10588623": {
          "model_module": "@jupyter-widgets/controls",
          "model_name": "FloatProgressModel",
          "model_module_version": "1.5.0",
          "state": {
            "_dom_classes": [],
            "_model_module": "@jupyter-widgets/controls",
            "_model_module_version": "1.5.0",
            "_model_name": "FloatProgressModel",
            "_view_count": null,
            "_view_module": "@jupyter-widgets/controls",
            "_view_module_version": "1.5.0",
            "_view_name": "ProgressView",
            "bar_style": "success",
            "description": "",
            "description_tooltip": null,
            "layout": "IPY_MODEL_b1324b1304ad47e2a6bad512fb419f65",
            "max": 304561,
            "min": 0,
            "orientation": "horizontal",
            "style": "IPY_MODEL_a80426ccf4c84402bd6b0f3aefba53d7",
            "value": 304561
          }
        },
        "5324d61b1c504e48a9b8b39725863514": {
          "model_module": "@jupyter-widgets/controls",
          "model_name": "HTMLModel",
          "model_module_version": "1.5.0",
          "state": {
            "_dom_classes": [],
            "_model_module": "@jupyter-widgets/controls",
            "_model_module_version": "1.5.0",
            "_model_name": "HTMLModel",
            "_view_count": null,
            "_view_module": "@jupyter-widgets/controls",
            "_view_module_version": "1.5.0",
            "_view_name": "HTMLView",
            "description": "",
            "description_tooltip": null,
            "layout": "IPY_MODEL_d86a30ba34e842ca8870258ab87c9220",
            "placeholder": "​",
            "style": "IPY_MODEL_659c53168a6a4bb9a815dd838d2f1915",
            "value": " 305k/305k [00:00&lt;00:00, 3.34MB/s]"
          }
        },
        "7c3f7bd3769c4addae534f9bfd4756ba": {
          "model_module": "@jupyter-widgets/base",
          "model_name": "LayoutModel",
          "model_module_version": "1.2.0",
          "state": {
            "_model_module": "@jupyter-widgets/base",
            "_model_module_version": "1.2.0",
            "_model_name": "LayoutModel",
            "_view_count": null,
            "_view_module": "@jupyter-widgets/base",
            "_view_module_version": "1.2.0",
            "_view_name": "LayoutView",
            "align_content": null,
            "align_items": null,
            "align_self": null,
            "border": null,
            "bottom": null,
            "display": null,
            "flex": null,
            "flex_flow": null,
            "grid_area": null,
            "grid_auto_columns": null,
            "grid_auto_flow": null,
            "grid_auto_rows": null,
            "grid_column": null,
            "grid_gap": null,
            "grid_row": null,
            "grid_template_areas": null,
            "grid_template_columns": null,
            "grid_template_rows": null,
            "height": null,
            "justify_content": null,
            "justify_items": null,
            "left": null,
            "margin": null,
            "max_height": null,
            "max_width": null,
            "min_height": null,
            "min_width": null,
            "object_fit": null,
            "object_position": null,
            "order": null,
            "overflow": null,
            "overflow_x": null,
            "overflow_y": null,
            "padding": null,
            "right": null,
            "top": null,
            "visibility": null,
            "width": null
          }
        },
        "72078ee1806b41f090ffc834593bdafe": {
          "model_module": "@jupyter-widgets/base",
          "model_name": "LayoutModel",
          "model_module_version": "1.2.0",
          "state": {
            "_model_module": "@jupyter-widgets/base",
            "_model_module_version": "1.2.0",
            "_model_name": "LayoutModel",
            "_view_count": null,
            "_view_module": "@jupyter-widgets/base",
            "_view_module_version": "1.2.0",
            "_view_name": "LayoutView",
            "align_content": null,
            "align_items": null,
            "align_self": null,
            "border": null,
            "bottom": null,
            "display": null,
            "flex": null,
            "flex_flow": null,
            "grid_area": null,
            "grid_auto_columns": null,
            "grid_auto_flow": null,
            "grid_auto_rows": null,
            "grid_column": null,
            "grid_gap": null,
            "grid_row": null,
            "grid_template_areas": null,
            "grid_template_columns": null,
            "grid_template_rows": null,
            "height": null,
            "justify_content": null,
            "justify_items": null,
            "left": null,
            "margin": null,
            "max_height": null,
            "max_width": null,
            "min_height": null,
            "min_width": null,
            "object_fit": null,
            "object_position": null,
            "order": null,
            "overflow": null,
            "overflow_x": null,
            "overflow_y": null,
            "padding": null,
            "right": null,
            "top": null,
            "visibility": null,
            "width": null
          }
        },
        "ec5ae38b0097482ba0df3dae18122865": {
          "model_module": "@jupyter-widgets/controls",
          "model_name": "DescriptionStyleModel",
          "model_module_version": "1.5.0",
          "state": {
            "_model_module": "@jupyter-widgets/controls",
            "_model_module_version": "1.5.0",
            "_model_name": "DescriptionStyleModel",
            "_view_count": null,
            "_view_module": "@jupyter-widgets/base",
            "_view_module_version": "1.2.0",
            "_view_name": "StyleView",
            "description_width": ""
          }
        },
        "b1324b1304ad47e2a6bad512fb419f65": {
          "model_module": "@jupyter-widgets/base",
          "model_name": "LayoutModel",
          "model_module_version": "1.2.0",
          "state": {
            "_model_module": "@jupyter-widgets/base",
            "_model_module_version": "1.2.0",
            "_model_name": "LayoutModel",
            "_view_count": null,
            "_view_module": "@jupyter-widgets/base",
            "_view_module_version": "1.2.0",
            "_view_name": "LayoutView",
            "align_content": null,
            "align_items": null,
            "align_self": null,
            "border": null,
            "bottom": null,
            "display": null,
            "flex": null,
            "flex_flow": null,
            "grid_area": null,
            "grid_auto_columns": null,
            "grid_auto_flow": null,
            "grid_auto_rows": null,
            "grid_column": null,
            "grid_gap": null,
            "grid_row": null,
            "grid_template_areas": null,
            "grid_template_columns": null,
            "grid_template_rows": null,
            "height": null,
            "justify_content": null,
            "justify_items": null,
            "left": null,
            "margin": null,
            "max_height": null,
            "max_width": null,
            "min_height": null,
            "min_width": null,
            "object_fit": null,
            "object_position": null,
            "order": null,
            "overflow": null,
            "overflow_x": null,
            "overflow_y": null,
            "padding": null,
            "right": null,
            "top": null,
            "visibility": null,
            "width": null
          }
        },
        "a80426ccf4c84402bd6b0f3aefba53d7": {
          "model_module": "@jupyter-widgets/controls",
          "model_name": "ProgressStyleModel",
          "model_module_version": "1.5.0",
          "state": {
            "_model_module": "@jupyter-widgets/controls",
            "_model_module_version": "1.5.0",
            "_model_name": "ProgressStyleModel",
            "_view_count": null,
            "_view_module": "@jupyter-widgets/base",
            "_view_module_version": "1.2.0",
            "_view_name": "StyleView",
            "bar_color": null,
            "description_width": ""
          }
        },
        "d86a30ba34e842ca8870258ab87c9220": {
          "model_module": "@jupyter-widgets/base",
          "model_name": "LayoutModel",
          "model_module_version": "1.2.0",
          "state": {
            "_model_module": "@jupyter-widgets/base",
            "_model_module_version": "1.2.0",
            "_model_name": "LayoutModel",
            "_view_count": null,
            "_view_module": "@jupyter-widgets/base",
            "_view_module_version": "1.2.0",
            "_view_name": "LayoutView",
            "align_content": null,
            "align_items": null,
            "align_self": null,
            "border": null,
            "bottom": null,
            "display": null,
            "flex": null,
            "flex_flow": null,
            "grid_area": null,
            "grid_auto_columns": null,
            "grid_auto_flow": null,
            "grid_auto_rows": null,
            "grid_column": null,
            "grid_gap": null,
            "grid_row": null,
            "grid_template_areas": null,
            "grid_template_columns": null,
            "grid_template_rows": null,
            "height": null,
            "justify_content": null,
            "justify_items": null,
            "left": null,
            "margin": null,
            "max_height": null,
            "max_width": null,
            "min_height": null,
            "min_width": null,
            "object_fit": null,
            "object_position": null,
            "order": null,
            "overflow": null,
            "overflow_x": null,
            "overflow_y": null,
            "padding": null,
            "right": null,
            "top": null,
            "visibility": null,
            "width": null
          }
        },
        "659c53168a6a4bb9a815dd838d2f1915": {
          "model_module": "@jupyter-widgets/controls",
          "model_name": "DescriptionStyleModel",
          "model_module_version": "1.5.0",
          "state": {
            "_model_module": "@jupyter-widgets/controls",
            "_model_module_version": "1.5.0",
            "_model_name": "DescriptionStyleModel",
            "_view_count": null,
            "_view_module": "@jupyter-widgets/base",
            "_view_module_version": "1.2.0",
            "_view_name": "StyleView",
            "description_width": ""
          }
        },
        "fb7e2b12fef14f2289fcc2c48d6246ed": {
          "model_module": "@jupyter-widgets/controls",
          "model_name": "HBoxModel",
          "model_module_version": "1.5.0",
          "state": {
            "_dom_classes": [],
            "_model_module": "@jupyter-widgets/controls",
            "_model_module_version": "1.5.0",
            "_model_name": "HBoxModel",
            "_view_count": null,
            "_view_module": "@jupyter-widgets/controls",
            "_view_module_version": "1.5.0",
            "_view_name": "HBoxView",
            "box_style": "",
            "children": [
              "IPY_MODEL_7b7385024ced4405869a65346ec47030",
              "IPY_MODEL_6e6a18204e2f471f90c0010545146ca0",
              "IPY_MODEL_74903f902cca41af98194f71f35ba956"
            ],
            "layout": "IPY_MODEL_b378c5c856754e87b06ecf048447116e"
          }
        },
        "7b7385024ced4405869a65346ec47030": {
          "model_module": "@jupyter-widgets/controls",
          "model_name": "HTMLModel",
          "model_module_version": "1.5.0",
          "state": {
            "_dom_classes": [],
            "_model_module": "@jupyter-widgets/controls",
            "_model_module_version": "1.5.0",
            "_model_name": "HTMLModel",
            "_view_count": null,
            "_view_module": "@jupyter-widgets/controls",
            "_view_module_version": "1.5.0",
            "_view_name": "HTMLView",
            "description": "",
            "description_tooltip": null,
            "layout": "IPY_MODEL_6ecc19dec41f431baf11c45afb607aa2",
            "placeholder": "​",
            "style": "IPY_MODEL_690ee37f379545348a20970e626387fe",
            "value": "special_tokens_map.json: 100%"
          }
        },
        "6e6a18204e2f471f90c0010545146ca0": {
          "model_module": "@jupyter-widgets/controls",
          "model_name": "FloatProgressModel",
          "model_module_version": "1.5.0",
          "state": {
            "_dom_classes": [],
            "_model_module": "@jupyter-widgets/controls",
            "_model_module_version": "1.5.0",
            "_model_name": "FloatProgressModel",
            "_view_count": null,
            "_view_module": "@jupyter-widgets/controls",
            "_view_module_version": "1.5.0",
            "_view_name": "ProgressView",
            "bar_style": "success",
            "description": "",
            "description_tooltip": null,
            "layout": "IPY_MODEL_88b3bb774bbc4a8b9eb44fadc97c897e",
            "max": 112,
            "min": 0,
            "orientation": "horizontal",
            "style": "IPY_MODEL_8b6ee86fdc2f4967940e0e03d6280cc6",
            "value": 112
          }
        },
        "74903f902cca41af98194f71f35ba956": {
          "model_module": "@jupyter-widgets/controls",
          "model_name": "HTMLModel",
          "model_module_version": "1.5.0",
          "state": {
            "_dom_classes": [],
            "_model_module": "@jupyter-widgets/controls",
            "_model_module_version": "1.5.0",
            "_model_name": "HTMLModel",
            "_view_count": null,
            "_view_module": "@jupyter-widgets/controls",
            "_view_module_version": "1.5.0",
            "_view_name": "HTMLView",
            "description": "",
            "description_tooltip": null,
            "layout": "IPY_MODEL_692f9f711fd54d85a0123139e983c1f1",
            "placeholder": "​",
            "style": "IPY_MODEL_95b9f3d32ae54a75825cb4b9cae28cf9",
            "value": " 112/112 [00:00&lt;00:00, 5.23kB/s]"
          }
        },
        "b378c5c856754e87b06ecf048447116e": {
          "model_module": "@jupyter-widgets/base",
          "model_name": "LayoutModel",
          "model_module_version": "1.2.0",
          "state": {
            "_model_module": "@jupyter-widgets/base",
            "_model_module_version": "1.2.0",
            "_model_name": "LayoutModel",
            "_view_count": null,
            "_view_module": "@jupyter-widgets/base",
            "_view_module_version": "1.2.0",
            "_view_name": "LayoutView",
            "align_content": null,
            "align_items": null,
            "align_self": null,
            "border": null,
            "bottom": null,
            "display": null,
            "flex": null,
            "flex_flow": null,
            "grid_area": null,
            "grid_auto_columns": null,
            "grid_auto_flow": null,
            "grid_auto_rows": null,
            "grid_column": null,
            "grid_gap": null,
            "grid_row": null,
            "grid_template_areas": null,
            "grid_template_columns": null,
            "grid_template_rows": null,
            "height": null,
            "justify_content": null,
            "justify_items": null,
            "left": null,
            "margin": null,
            "max_height": null,
            "max_width": null,
            "min_height": null,
            "min_width": null,
            "object_fit": null,
            "object_position": null,
            "order": null,
            "overflow": null,
            "overflow_x": null,
            "overflow_y": null,
            "padding": null,
            "right": null,
            "top": null,
            "visibility": null,
            "width": null
          }
        },
        "6ecc19dec41f431baf11c45afb607aa2": {
          "model_module": "@jupyter-widgets/base",
          "model_name": "LayoutModel",
          "model_module_version": "1.2.0",
          "state": {
            "_model_module": "@jupyter-widgets/base",
            "_model_module_version": "1.2.0",
            "_model_name": "LayoutModel",
            "_view_count": null,
            "_view_module": "@jupyter-widgets/base",
            "_view_module_version": "1.2.0",
            "_view_name": "LayoutView",
            "align_content": null,
            "align_items": null,
            "align_self": null,
            "border": null,
            "bottom": null,
            "display": null,
            "flex": null,
            "flex_flow": null,
            "grid_area": null,
            "grid_auto_columns": null,
            "grid_auto_flow": null,
            "grid_auto_rows": null,
            "grid_column": null,
            "grid_gap": null,
            "grid_row": null,
            "grid_template_areas": null,
            "grid_template_columns": null,
            "grid_template_rows": null,
            "height": null,
            "justify_content": null,
            "justify_items": null,
            "left": null,
            "margin": null,
            "max_height": null,
            "max_width": null,
            "min_height": null,
            "min_width": null,
            "object_fit": null,
            "object_position": null,
            "order": null,
            "overflow": null,
            "overflow_x": null,
            "overflow_y": null,
            "padding": null,
            "right": null,
            "top": null,
            "visibility": null,
            "width": null
          }
        },
        "690ee37f379545348a20970e626387fe": {
          "model_module": "@jupyter-widgets/controls",
          "model_name": "DescriptionStyleModel",
          "model_module_version": "1.5.0",
          "state": {
            "_model_module": "@jupyter-widgets/controls",
            "_model_module_version": "1.5.0",
            "_model_name": "DescriptionStyleModel",
            "_view_count": null,
            "_view_module": "@jupyter-widgets/base",
            "_view_module_version": "1.2.0",
            "_view_name": "StyleView",
            "description_width": ""
          }
        },
        "88b3bb774bbc4a8b9eb44fadc97c897e": {
          "model_module": "@jupyter-widgets/base",
          "model_name": "LayoutModel",
          "model_module_version": "1.2.0",
          "state": {
            "_model_module": "@jupyter-widgets/base",
            "_model_module_version": "1.2.0",
            "_model_name": "LayoutModel",
            "_view_count": null,
            "_view_module": "@jupyter-widgets/base",
            "_view_module_version": "1.2.0",
            "_view_name": "LayoutView",
            "align_content": null,
            "align_items": null,
            "align_self": null,
            "border": null,
            "bottom": null,
            "display": null,
            "flex": null,
            "flex_flow": null,
            "grid_area": null,
            "grid_auto_columns": null,
            "grid_auto_flow": null,
            "grid_auto_rows": null,
            "grid_column": null,
            "grid_gap": null,
            "grid_row": null,
            "grid_template_areas": null,
            "grid_template_columns": null,
            "grid_template_rows": null,
            "height": null,
            "justify_content": null,
            "justify_items": null,
            "left": null,
            "margin": null,
            "max_height": null,
            "max_width": null,
            "min_height": null,
            "min_width": null,
            "object_fit": null,
            "object_position": null,
            "order": null,
            "overflow": null,
            "overflow_x": null,
            "overflow_y": null,
            "padding": null,
            "right": null,
            "top": null,
            "visibility": null,
            "width": null
          }
        },
        "8b6ee86fdc2f4967940e0e03d6280cc6": {
          "model_module": "@jupyter-widgets/controls",
          "model_name": "ProgressStyleModel",
          "model_module_version": "1.5.0",
          "state": {
            "_model_module": "@jupyter-widgets/controls",
            "_model_module_version": "1.5.0",
            "_model_name": "ProgressStyleModel",
            "_view_count": null,
            "_view_module": "@jupyter-widgets/base",
            "_view_module_version": "1.2.0",
            "_view_name": "StyleView",
            "bar_color": null,
            "description_width": ""
          }
        },
        "692f9f711fd54d85a0123139e983c1f1": {
          "model_module": "@jupyter-widgets/base",
          "model_name": "LayoutModel",
          "model_module_version": "1.2.0",
          "state": {
            "_model_module": "@jupyter-widgets/base",
            "_model_module_version": "1.2.0",
            "_model_name": "LayoutModel",
            "_view_count": null,
            "_view_module": "@jupyter-widgets/base",
            "_view_module_version": "1.2.0",
            "_view_name": "LayoutView",
            "align_content": null,
            "align_items": null,
            "align_self": null,
            "border": null,
            "bottom": null,
            "display": null,
            "flex": null,
            "flex_flow": null,
            "grid_area": null,
            "grid_auto_columns": null,
            "grid_auto_flow": null,
            "grid_auto_rows": null,
            "grid_column": null,
            "grid_gap": null,
            "grid_row": null,
            "grid_template_areas": null,
            "grid_template_columns": null,
            "grid_template_rows": null,
            "height": null,
            "justify_content": null,
            "justify_items": null,
            "left": null,
            "margin": null,
            "max_height": null,
            "max_width": null,
            "min_height": null,
            "min_width": null,
            "object_fit": null,
            "object_position": null,
            "order": null,
            "overflow": null,
            "overflow_x": null,
            "overflow_y": null,
            "padding": null,
            "right": null,
            "top": null,
            "visibility": null,
            "width": null
          }
        },
        "95b9f3d32ae54a75825cb4b9cae28cf9": {
          "model_module": "@jupyter-widgets/controls",
          "model_name": "DescriptionStyleModel",
          "model_module_version": "1.5.0",
          "state": {
            "_model_module": "@jupyter-widgets/controls",
            "_model_module_version": "1.5.0",
            "_model_name": "DescriptionStyleModel",
            "_view_count": null,
            "_view_module": "@jupyter-widgets/base",
            "_view_module_version": "1.2.0",
            "_view_name": "StyleView",
            "description_width": ""
          }
        }
      }
    }
  },
  "cells": [
    {
      "cell_type": "markdown",
      "metadata": {
        "id": "view-in-github",
        "colab_type": "text"
      },
      "source": [
        "<a href=\"https://colab.research.google.com/github/Ma7moudYasser/POS-tagging-Task/blob/main/pos_tagging.ipynb\" target=\"_parent\"><img src=\"https://colab.research.google.com/assets/colab-badge.svg\" alt=\"Open In Colab\"/></a>"
      ]
    },
    {
      "cell_type": "markdown",
      "source": [
        "# Installing graphviz"
      ],
      "metadata": {
        "id": "OV8vRg7W8iTv"
      }
    },
    {
      "cell_type": "code",
      "source": [
        "!pip install graphviz"
      ],
      "metadata": {
        "colab": {
          "base_uri": "https://localhost:8080/"
        },
        "id": "F6EkThrb7b2_",
        "outputId": "65271c35-3cff-44d8-b399-dcc9e7f68fab"
      },
      "execution_count": 1,
      "outputs": [
        {
          "output_type": "stream",
          "name": "stdout",
          "text": [
            "Requirement already satisfied: graphviz in /usr/local/lib/python3.10/dist-packages (0.20.1)\n"
          ]
        }
      ]
    },
    {
      "cell_type": "markdown",
      "source": [
        "# Useful Imports"
      ],
      "metadata": {
        "id": "cjNCkeIE8nMI"
      }
    },
    {
      "cell_type": "code",
      "execution_count": 2,
      "metadata": {
        "id": "C8h95rr47UN-"
      },
      "outputs": [],
      "source": [
        "from transformers import pipeline\n",
        "import graphviz\n",
        "import networkx as nx\n",
        "import matplotlib.pyplot as plt"
      ]
    },
    {
      "cell_type": "markdown",
      "source": [
        "#Importing bert base camelbert"
      ],
      "metadata": {
        "id": "g6ZbwHU68qOl"
      }
    },
    {
      "cell_type": "code",
      "source": [
        "pos_model = pipeline('token-classification', model='CAMeL-Lab/bert-base-arabic-camelbert-ca-pos-egy')"
      ],
      "metadata": {
        "colab": {
          "base_uri": "https://localhost:8080/",
          "height": 353,
          "referenced_widgets": [
            "2381101b2e4c418492ae804aa23e6678",
            "cad8625f64084ff5877186c26482d51b",
            "3ba5975c7c544ac0bc77bb3b76b8bac7",
            "e3cfc0ebc48c4275869b7df156cea2db",
            "dd8876ee5ca941ae8bba761ec8e95350",
            "0667eafeba834c37b8df35b69ede1b88",
            "40a3a55f278144caa9eb69513cd28b7c",
            "e824da2fad1e4f6f9f63035dd40689a7",
            "cfe15abb304145679b6fc33defda3989",
            "31c32814dc774d1f9a9d89cd89c5c09d",
            "12e0fa49032d4d92af5dc2396ad37873",
            "4b29b10d43654c0f97946a1a5fa00b3b",
            "ff75144e2ae44c02bef7cb6a96d7838c",
            "cb16168a5ddb482d9d840395dceb47d5",
            "3e7fc27f6222499a9626168a4428f2ae",
            "8f811c92a8514478a15dda215fd8336c",
            "bdf4cc5dd17c4f1dac5074e6bc915183",
            "ddfce51506804cedab48b257fff612a5",
            "b900096b747a49429a0c77bb684f4ee2",
            "2d29ea688aeb4007890f31635a2a5e10",
            "1694b48d3ff84199a7bdb02221f712a3",
            "700b8d3b7d5546e182cc78f03811586d",
            "165037a1e8654a57a152cb5ef8843d0c",
            "300074fc953c446ca5212709f42ad1a3",
            "23ef93217c2a4f999f19b7fb5e71d901",
            "e8585a451ce54178ba005bc171f66343",
            "c003f0f9218a44e58d722b56a45177d9",
            "bcb2f13956a04ecab6885ac2d5c45ccd",
            "55779c05114f40759aa909406fe52fe9",
            "11192802f2b142bda659d75f77703243",
            "ee05fecfd25d42f58d54d20fed5bb2a4",
            "2b8a8a3f479946a9909fcd271685c488",
            "cc24f84a1f974099aab01a499f3e146d",
            "af11eab08611431190c96d43a2d85f71",
            "44c92f1efcf34bc69486dfd9197a3cd2",
            "e4bedc1c22194aee90d8adee10588623",
            "5324d61b1c504e48a9b8b39725863514",
            "7c3f7bd3769c4addae534f9bfd4756ba",
            "72078ee1806b41f090ffc834593bdafe",
            "ec5ae38b0097482ba0df3dae18122865",
            "b1324b1304ad47e2a6bad512fb419f65",
            "a80426ccf4c84402bd6b0f3aefba53d7",
            "d86a30ba34e842ca8870258ab87c9220",
            "659c53168a6a4bb9a815dd838d2f1915",
            "fb7e2b12fef14f2289fcc2c48d6246ed",
            "7b7385024ced4405869a65346ec47030",
            "6e6a18204e2f471f90c0010545146ca0",
            "74903f902cca41af98194f71f35ba956",
            "b378c5c856754e87b06ecf048447116e",
            "6ecc19dec41f431baf11c45afb607aa2",
            "690ee37f379545348a20970e626387fe",
            "88b3bb774bbc4a8b9eb44fadc97c897e",
            "8b6ee86fdc2f4967940e0e03d6280cc6",
            "692f9f711fd54d85a0123139e983c1f1",
            "95b9f3d32ae54a75825cb4b9cae28cf9"
          ]
        },
        "id": "mOhinl6z76Qw",
        "outputId": "8c8b4892-6a6a-49bb-c81d-313c58c6d5ca"
      },
      "execution_count": 3,
      "outputs": [
        {
          "output_type": "stream",
          "name": "stderr",
          "text": [
            "/usr/local/lib/python3.10/dist-packages/huggingface_hub/utils/_token.py:88: UserWarning: \n",
            "The secret `HF_TOKEN` does not exist in your Colab secrets.\n",
            "To authenticate with the Hugging Face Hub, create a token in your settings tab (https://huggingface.co/settings/tokens), set it as secret in your Google Colab and restart your session.\n",
            "You will be able to reuse this secret in all of your notebooks.\n",
            "Please note that authentication is recommended but still optional to access public models or datasets.\n",
            "  warnings.warn(\n"
          ]
        },
        {
          "output_type": "display_data",
          "data": {
            "text/plain": [
              "config.json:   0%|          | 0.00/1.85k [00:00<?, ?B/s]"
            ],
            "application/vnd.jupyter.widget-view+json": {
              "version_major": 2,
              "version_minor": 0,
              "model_id": "2381101b2e4c418492ae804aa23e6678"
            }
          },
          "metadata": {}
        },
        {
          "output_type": "display_data",
          "data": {
            "text/plain": [
              "pytorch_model.bin:   0%|          | 0.00/436M [00:00<?, ?B/s]"
            ],
            "application/vnd.jupyter.widget-view+json": {
              "version_major": 2,
              "version_minor": 0,
              "model_id": "4b29b10d43654c0f97946a1a5fa00b3b"
            }
          },
          "metadata": {}
        },
        {
          "output_type": "stream",
          "name": "stderr",
          "text": [
            "Some weights of the model checkpoint at CAMeL-Lab/bert-base-arabic-camelbert-ca-pos-egy were not used when initializing BertForTokenClassification: ['bert.pooler.dense.weight', 'bert.pooler.dense.bias']\n",
            "- This IS expected if you are initializing BertForTokenClassification from the checkpoint of a model trained on another task or with another architecture (e.g. initializing a BertForSequenceClassification model from a BertForPreTraining model).\n",
            "- This IS NOT expected if you are initializing BertForTokenClassification from the checkpoint of a model that you expect to be exactly identical (initializing a BertForSequenceClassification model from a BertForSequenceClassification model).\n"
          ]
        },
        {
          "output_type": "display_data",
          "data": {
            "text/plain": [
              "tokenizer_config.json:   0%|          | 0.00/86.0 [00:00<?, ?B/s]"
            ],
            "application/vnd.jupyter.widget-view+json": {
              "version_major": 2,
              "version_minor": 0,
              "model_id": "165037a1e8654a57a152cb5ef8843d0c"
            }
          },
          "metadata": {}
        },
        {
          "output_type": "display_data",
          "data": {
            "text/plain": [
              "vocab.txt:   0%|          | 0.00/305k [00:00<?, ?B/s]"
            ],
            "application/vnd.jupyter.widget-view+json": {
              "version_major": 2,
              "version_minor": 0,
              "model_id": "af11eab08611431190c96d43a2d85f71"
            }
          },
          "metadata": {}
        },
        {
          "output_type": "display_data",
          "data": {
            "text/plain": [
              "special_tokens_map.json:   0%|          | 0.00/112 [00:00<?, ?B/s]"
            ],
            "application/vnd.jupyter.widget-view+json": {
              "version_major": 2,
              "version_minor": 0,
              "model_id": "fb7e2b12fef14f2289fcc2c48d6246ed"
            }
          },
          "metadata": {}
        }
      ]
    },
    {
      "cell_type": "markdown",
      "source": [
        "# Testing the model and implementing graphviz graph (network graph)"
      ],
      "metadata": {
        "id": "g3RHnLuZ8yyu"
      }
    },
    {
      "cell_type": "code",
      "source": [
        "\n",
        "text = 'ذهبت الي المدرسة مع والدتي'\n",
        "\n",
        "# Perform POS tagging\n",
        "pos_tags = pos_model(text)\n",
        "\n",
        "# Create a directed graph\n",
        "graph = graphviz.Digraph(format='png')\n",
        "\n",
        "# Add nodes and edges based on results\n",
        "for i in range(len(pos_tags)):\n",
        "    word = pos_tags[i]['word']\n",
        "    pos_tag = pos_tags[i]['entity']\n",
        "\n",
        "\n",
        "    graph.node(word, label=f'{word}\\n({pos_tag})')\n",
        "\n",
        "    # Add edges between consecutive words\n",
        "    if i > 0:\n",
        "        prev_word = pos_tags[i - 1]['word']\n",
        "        graph.edge(prev_word, word)\n",
        "\n",
        "# Saving graph image\n",
        "graph.render('pos_network_graph', format='png', cleanup=True)\n",
        "\n",
        "# Displaying the graph\n",
        "graph.view('pos_network_graph')"
      ],
      "metadata": {
        "colab": {
          "base_uri": "https://localhost:8080/",
          "height": 35
        },
        "id": "BJ0sVr6W8C9N",
        "outputId": "90d30a46-0285-47d7-8e07-de7c88859f4f"
      },
      "execution_count": 10,
      "outputs": [
        {
          "output_type": "execute_result",
          "data": {
            "text/plain": [
              "'pos_network_graph.png'"
            ],
            "application/vnd.google.colaboratory.intrinsic+json": {
              "type": "string"
            }
          },
          "metadata": {},
          "execution_count": 10
        }
      ]
    },
    {
      "cell_type": "markdown",
      "source": [
        "# Implementing network graph using matplotlib"
      ],
      "metadata": {
        "id": "PLOWoRZuCPmn"
      }
    },
    {
      "cell_type": "code",
      "source": [
        "# Sample text\n",
        "text = 'ذهبت الي المدرسة مع والدتي'\n",
        "\n",
        "\n",
        "pos_tags = pos_model(text)\n",
        "\n",
        "# Create a graph\n",
        "G = nx.DiGraph()\n",
        "\n",
        "# Add nodes between edges of two consecutive words\n",
        "for i in range(len(pos_tags)):\n",
        "    word = pos_tags[i]['word']\n",
        "    pos_tag = pos_tags[i]['entity']\n",
        "\n",
        "    # Add nodes (words) and POS tags as node attributes\n",
        "    G.add_node(word, pos=pos_tag)\n",
        "\n",
        "    # Add edges between consecutive words\n",
        "    if i > 0:\n",
        "        prev_word = pos_tags[i - 1]['word']\n",
        "        G.add_edge(prev_word, word)\n",
        "\n",
        "# Draw the network graph\n",
        "pos = nx.spring_layout(G)\n",
        "labels = nx.get_edge_attributes(G, 'pos')\n",
        "nx.draw(G, pos, with_labels=True, font_weight='bold', node_size=1000, node_color='skyblue')\n",
        "nx.draw_networkx_edge_labels(G, pos, edge_labels=labels)\n",
        "\n",
        "# Showing the graph\n",
        "plt.show()"
      ],
      "metadata": {
        "colab": {
          "base_uri": "https://localhost:8080/",
          "height": 516
        },
        "id": "-rhiClS7COpF",
        "outputId": "6631780b-dda3-48b1-d595-01bdf979583a"
      },
      "execution_count": 8,
      "outputs": [
        {
          "output_type": "display_data",
          "data": {
            "text/plain": [
              "<Figure size 640x480 with 1 Axes>"
            ],
            "image/png": "[encoded data removed]"
          },
          "metadata": {}
        }
      ]
    },
    {
      "cell_type": "markdown",
      "source": [
        "# Sample Arabic Article and reading every sentence inside it and move it towards the pos tagging"
      ],
      "metadata": {
        "id": "R6VpDgVcDpd8"
      }
    },
    {
      "cell_type": "code",
      "source": [
        "article = \"\"\"\n",
        "\n",
        "تتميز اللغة العربية بأصالة ماضيها؛ فهي من أقدم اللغات في العالم، فهي لغة الرسول محمد صلى الله عليه وسلم،\n",
        " كما أنها اللغة التي نزل بها كلام الله تعالى في القرآن الكريم\n",
        "\n",
        "\n",
        "\"\"\""
      ],
      "metadata": {
        "id": "s1kjAaacDocm"
      },
      "execution_count": 11,
      "outputs": []
    },
    {
      "cell_type": "code",
      "source": [
        "#Splitting every sentence inside the article\n",
        "for sentence in article.split('.'):\n",
        "    sentence = sentence.strip()\n",
        "    if sentence:\n",
        "        pos_tags = pos_model(sentence)\n",
        "        print(pos_tags)"
      ],
      "metadata": {
        "colab": {
          "base_uri": "https://localhost:8080/"
        },
        "id": "rFC_T6AsGGXV",
        "outputId": "8aeb32d2-cdfd-454c-d5cd-e217abc0a68d"
      },
      "execution_count": 15,
      "outputs": [
        {
          "output_type": "stream",
          "name": "stdout",
          "text": [
            "[{'entity': 'verb', 'score': 0.99958545, 'index': 1, 'word': 'تتميز', 'start': 0, 'end': 5}, {'entity': 'noun', 'score': 0.9999502, 'index': 2, 'word': 'اللغة', 'start': 6, 'end': 11}, {'entity': 'adj', 'score': 0.9515058, 'index': 3, 'word': 'العربية', 'start': 12, 'end': 19}, {'entity': 'noun', 'score': 0.9999393, 'index': 4, 'word': 'بأص', 'start': 20, 'end': 23}, {'entity': 'noun', 'score': 0.9999341, 'index': 5, 'word': '##الة', 'start': 23, 'end': 26}, {'entity': 'adj', 'score': 0.99942553, 'index': 6, 'word': 'ماضي', 'start': 27, 'end': 31}, {'entity': 'adj', 'score': 0.9993974, 'index': 7, 'word': '##ها', 'start': 31, 'end': 33}, {'entity': 'punc', 'score': 0.999313, 'index': 8, 'word': '؛', 'start': 33, 'end': 34}, {'entity': 'pron', 'score': 0.99084187, 'index': 9, 'word': 'فهي', 'start': 35, 'end': 38}, {'entity': 'prep', 'score': 0.999371, 'index': 10, 'word': 'من', 'start': 39, 'end': 41}, {'entity': 'adj_comp', 'score': 0.9989095, 'index': 11, 'word': 'أقدم', 'start': 42, 'end': 46}, {'entity': 'noun', 'score': 0.99994373, 'index': 12, 'word': 'اللغات', 'start': 47, 'end': 53}, {'entity': 'prep', 'score': 0.9999279, 'index': 13, 'word': 'في', 'start': 54, 'end': 56}, {'entity': 'noun', 'score': 0.9999336, 'index': 14, 'word': 'العالم', 'start': 57, 'end': 63}, {'entity': 'punc', 'score': 0.9976993, 'index': 15, 'word': '،', 'start': 63, 'end': 64}, {'entity': 'pron', 'score': 0.9969945, 'index': 16, 'word': 'فهي', 'start': 65, 'end': 68}, {'entity': 'noun', 'score': 0.9999496, 'index': 17, 'word': 'لغة', 'start': 69, 'end': 72}, {'entity': 'noun', 'score': 0.9999212, 'index': 18, 'word': 'الرسول', 'start': 73, 'end': 79}, {'entity': 'noun_prop', 'score': 0.99978644, 'index': 19, 'word': 'محمد', 'start': 80, 'end': 84}, {'entity': 'verb', 'score': 0.99985945, 'index': 20, 'word': 'صلى', 'start': 85, 'end': 88}, {'entity': 'noun_prop', 'score': 0.9999026, 'index': 21, 'word': 'الله', 'start': 89, 'end': 93}, {'entity': 'prep', 'score': 0.99994004, 'index': 22, 'word': 'عليه', 'start': 94, 'end': 98}, {'entity': 'verb', 'score': 0.9998684, 'index': 23, 'word': 'وسلم', 'start': 99, 'end': 103}, {'entity': 'punc', 'score': 0.99662566, 'index': 24, 'word': '،', 'start': 103, 'end': 104}, {'entity': 'conj', 'score': 0.99155384, 'index': 25, 'word': 'كما', 'start': 106, 'end': 109}, {'entity': 'conj_sub', 'score': 0.999413, 'index': 26, 'word': 'أنها', 'start': 110, 'end': 114}, {'entity': 'noun', 'score': 0.999954, 'index': 27, 'word': 'اللغة', 'start': 115, 'end': 120}, {'entity': 'pron_rel', 'score': 0.9998246, 'index': 28, 'word': 'التي', 'start': 121, 'end': 125}, {'entity': 'verb', 'score': 0.99983764, 'index': 29, 'word': 'نزل', 'start': 126, 'end': 129}, {'entity': 'prep', 'score': 0.9999429, 'index': 30, 'word': 'بها', 'start': 130, 'end': 133}, {'entity': 'noun', 'score': 0.99995184, 'index': 31, 'word': 'كلام', 'start': 134, 'end': 138}, {'entity': 'noun_prop', 'score': 0.99985385, 'index': 32, 'word': 'الله', 'start': 139, 'end': 143}, {'entity': 'verb', 'score': 0.87681484, 'index': 33, 'word': 'تعالى', 'start': 144, 'end': 149}, {'entity': 'prep', 'score': 0.9999343, 'index': 34, 'word': 'في', 'start': 150, 'end': 152}, {'entity': 'noun', 'score': 0.9999007, 'index': 35, 'word': 'القرآن', 'start': 153, 'end': 159}, {'entity': 'adj', 'score': 0.9996556, 'index': 36, 'word': 'الكريم', 'start': 160, 'end': 166}]\n"
          ]
        }
      ]
    },
    {
      "cell_type": "code",
      "source": [
        "\n",
        "\n",
        "pos_tags = pos_model(article)\n",
        "\n",
        "# Create a graph\n",
        "G = nx.DiGraph()\n",
        "\n",
        "# Add nodes between edges of two consecutive words\n",
        "for i in range(len(pos_tags)):\n",
        "    word = pos_tags[i]['word']\n",
        "    pos_tag = pos_tags[i]['entity']\n",
        "\n",
        "    # Add nodes (words) and POS tags as node attributes\n",
        "    G.add_node(word, pos=pos_tag)\n",
        "\n",
        "    # Add edges between consecutive words\n",
        "    if i > 0:\n",
        "        prev_word = pos_tags[i - 1]['word']\n",
        "        G.add_edge(prev_word, word)\n",
        "\n",
        "# Draw the network graph\n",
        "pos = nx.spring_layout(G)\n",
        "labels = nx.get_edge_attributes(G, 'pos')\n",
        "nx.draw(G, pos, with_labels=True, font_weight='bold', node_size=1000, node_color='skyblue')\n",
        "nx.draw_networkx_edge_labels(G, pos, edge_labels=labels)"
      ],
      "metadata": {
        "colab": {
          "base_uri": "https://localhost:8080/",
          "height": 571
        },
        "id": "FGJceNoeFSil",
        "outputId": "76c35cf8-0275-4d96-d38e-5a7f4b3a4f6f"
      },
      "execution_count": 13,
      "outputs": [
        {
          "output_type": "stream",
          "name": "stdout",
          "text": [
            "[{'entity': 'verb', 'score': 0.99958545, 'index': 1, 'word': 'تتميز', 'start': 0, 'end': 5}, {'entity': 'noun', 'score': 0.9999502, 'index': 2, 'word': 'اللغة', 'start': 6, 'end': 11}, {'entity': 'adj', 'score': 0.9515058, 'index': 3, 'word': 'العربية', 'start': 12, 'end': 19}, {'entity': 'noun', 'score': 0.9999393, 'index': 4, 'word': 'بأص', 'start': 20, 'end': 23}, {'entity': 'noun', 'score': 0.9999341, 'index': 5, 'word': '##الة', 'start': 23, 'end': 26}, {'entity': 'adj', 'score': 0.99942553, 'index': 6, 'word': 'ماضي', 'start': 27, 'end': 31}, {'entity': 'adj', 'score': 0.9993974, 'index': 7, 'word': '##ها', 'start': 31, 'end': 33}, {'entity': 'punc', 'score': 0.999313, 'index': 8, 'word': '؛', 'start': 33, 'end': 34}, {'entity': 'pron', 'score': 0.99084187, 'index': 9, 'word': 'فهي', 'start': 35, 'end': 38}, {'entity': 'prep', 'score': 0.999371, 'index': 10, 'word': 'من', 'start': 39, 'end': 41}, {'entity': 'adj_comp', 'score': 0.9989095, 'index': 11, 'word': 'أقدم', 'start': 42, 'end': 46}, {'entity': 'noun', 'score': 0.99994373, 'index': 12, 'word': 'اللغات', 'start': 47, 'end': 53}, {'entity': 'prep', 'score': 0.9999279, 'index': 13, 'word': 'في', 'start': 54, 'end': 56}, {'entity': 'noun', 'score': 0.9999336, 'index': 14, 'word': 'العالم', 'start': 57, 'end': 63}, {'entity': 'punc', 'score': 0.9976993, 'index': 15, 'word': '،', 'start': 63, 'end': 64}, {'entity': 'pron', 'score': 0.9969945, 'index': 16, 'word': 'فهي', 'start': 65, 'end': 68}, {'entity': 'noun', 'score': 0.9999496, 'index': 17, 'word': 'لغة', 'start': 69, 'end': 72}, {'entity': 'noun', 'score': 0.9999212, 'index': 18, 'word': 'الرسول', 'start': 73, 'end': 79}, {'entity': 'noun_prop', 'score': 0.99978644, 'index': 19, 'word': 'محمد', 'start': 80, 'end': 84}, {'entity': 'verb', 'score': 0.99985945, 'index': 20, 'word': 'صلى', 'start': 85, 'end': 88}, {'entity': 'noun_prop', 'score': 0.9999026, 'index': 21, 'word': 'الله', 'start': 89, 'end': 93}, {'entity': 'prep', 'score': 0.99994004, 'index': 22, 'word': 'عليه', 'start': 94, 'end': 98}, {'entity': 'verb', 'score': 0.9998684, 'index': 23, 'word': 'وسلم', 'start': 99, 'end': 103}, {'entity': 'punc', 'score': 0.99662566, 'index': 24, 'word': '،', 'start': 103, 'end': 104}, {'entity': 'conj', 'score': 0.99155384, 'index': 25, 'word': 'كما', 'start': 106, 'end': 109}, {'entity': 'conj_sub', 'score': 0.999413, 'index': 26, 'word': 'أنها', 'start': 110, 'end': 114}, {'entity': 'noun', 'score': 0.999954, 'index': 27, 'word': 'اللغة', 'start': 115, 'end': 120}, {'entity': 'pron_rel', 'score': 0.9998246, 'index': 28, 'word': 'التي', 'start': 121, 'end': 125}, {'entity': 'verb', 'score': 0.99983764, 'index': 29, 'word': 'نزل', 'start': 126, 'end': 129}, {'entity': 'prep', 'score': 0.9999429, 'index': 30, 'word': 'بها', 'start': 130, 'end': 133}, {'entity': 'noun', 'score': 0.99995184, 'index': 31, 'word': 'كلام', 'start': 134, 'end': 138}, {'entity': 'noun_prop', 'score': 0.99985385, 'index': 32, 'word': 'الله', 'start': 139, 'end': 143}, {'entity': 'verb', 'score': 0.87681484, 'index': 33, 'word': 'تعالى', 'start': 144, 'end': 149}, {'entity': 'prep', 'score': 0.9999343, 'index': 34, 'word': 'في', 'start': 150, 'end': 152}, {'entity': 'noun', 'score': 0.9999007, 'index': 35, 'word': 'القرآن', 'start': 153, 'end': 159}, {'entity': 'adj', 'score': 0.9996556, 'index': 36, 'word': 'الكريم', 'start': 160, 'end': 166}]\n"
          ]
        },
        {
          "output_type": "execute_result",
          "data": {
            "text/plain": [
              "{}"
            ]
          },
          "metadata": {},
          "execution_count": 13
        },
        {
          "output_type": "display_data",
          "data": {
            "text/plain": [
              "<Figure size 640x480 with 1 Axes>"
            ],
            "image/png": "[encoded data removed]"
          },
          "metadata": {}
        }
      ]
    }
  ]
}